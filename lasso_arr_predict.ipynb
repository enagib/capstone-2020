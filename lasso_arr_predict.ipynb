{
  "nbformat": 4,
  "nbformat_minor": 0,
  "metadata": {
    "colab": {
      "name": "lasso arr predict.ipynb",
      "provenance": [],
      "collapsed_sections": [],
      "machine_shape": "hm"
    },
    "kernelspec": {
      "name": "python3",
      "display_name": "Python 3"
    },
    "accelerator": "GPU"
  },
  "cells": [
    {
      "cell_type": "code",
      "metadata": {
        "id": "Oi5pqn7FxKlZ",
        "colab_type": "code",
        "colab": {}
      },
      "source": [
        "import numpy as np"
      ],
      "execution_count": 0,
      "outputs": []
    },
    {
      "cell_type": "code",
      "metadata": {
        "id": "H8PfHasBxQgw",
        "colab_type": "code",
        "outputId": "38e1dbd5-b1ec-436e-cb73-8c08bd87e7f1",
        "colab": {
          "base_uri": "https://localhost:8080/",
          "height": 122
        }
      },
      "source": [
        "from google.colab import drive\n",
        "drive.mount('/content/drive')"
      ],
      "execution_count": 2,
      "outputs": [
        {
          "output_type": "stream",
          "text": [
            "Go to this URL in a browser: https://accounts.google.com/o/oauth2/auth?client_id=947318989803-6bn6qk8qdgf4n4g3pfee6491hc0brc4i.apps.googleusercontent.com&redirect_uri=urn%3aietf%3awg%3aoauth%3a2.0%3aoob&response_type=code&scope=email%20https%3a%2f%2fwww.googleapis.com%2fauth%2fdocs.test%20https%3a%2f%2fwww.googleapis.com%2fauth%2fdrive%20https%3a%2f%2fwww.googleapis.com%2fauth%2fdrive.photos.readonly%20https%3a%2f%2fwww.googleapis.com%2fauth%2fpeopleapi.readonly\n",
            "\n",
            "Enter your authorization code:\n",
            "··········\n",
            "Mounted at /content/drive\n"
          ],
          "name": "stdout"
        }
      ]
    },
    {
      "cell_type": "code",
      "metadata": {
        "id": "rDoGUFx7xSMI",
        "colab_type": "code",
        "outputId": "b3797ab7-6a58-4bce-c84f-69a732a66c96",
        "colab": {
          "base_uri": "https://localhost:8080/",
          "height": 129
        }
      },
      "source": [
        "import pandas as pd\n",
        "data = pd.read_csv('/content/drive/My Drive/big_data.csv')\n",
        "pd.DataFrame.from_records(data)\n",
        "data.head(1)"
      ],
      "execution_count": 3,
      "outputs": [
        {
          "output_type": "execute_result",
          "data": {
            "text/html": [
              "<div>\n",
              "<style scoped>\n",
              "    .dataframe tbody tr th:only-of-type {\n",
              "        vertical-align: middle;\n",
              "    }\n",
              "\n",
              "    .dataframe tbody tr th {\n",
              "        vertical-align: top;\n",
              "    }\n",
              "\n",
              "    .dataframe thead th {\n",
              "        text-align: right;\n",
              "    }\n",
              "</style>\n",
              "<table border=\"1\" class=\"dataframe\">\n",
              "  <thead>\n",
              "    <tr style=\"text-align: right;\">\n",
              "      <th></th>\n",
              "      <th>arr_delay</th>\n",
              "      <th>distance</th>\n",
              "      <th>presidents_day</th>\n",
              "      <th>easter</th>\n",
              "      <th>memorial_day</th>\n",
              "      <th>independence_day</th>\n",
              "      <th>labor_day</th>\n",
              "      <th>thanksgiving</th>\n",
              "      <th>winter_holiday</th>\n",
              "      <th>total_dep_delay</th>\n",
              "      <th>temp</th>\n",
              "      <th>dew_point_temp</th>\n",
              "      <th>sea_level_pressure</th>\n",
              "      <th>station_pressure</th>\n",
              "      <th>visibilty</th>\n",
              "      <th>wind_speed</th>\n",
              "      <th>prcp</th>\n",
              "      <th>fog</th>\n",
              "      <th>rain_drizzle</th>\n",
              "      <th>snow_ice_pellets</th>\n",
              "      <th>hail</th>\n",
              "      <th>thunder</th>\n",
              "      <th>tornado_funnel_cloud</th>\n",
              "      <th>month_1</th>\n",
              "      <th>month_10</th>\n",
              "      <th>month_11</th>\n",
              "      <th>month_12</th>\n",
              "      <th>month_2</th>\n",
              "      <th>month_3</th>\n",
              "      <th>month_4</th>\n",
              "      <th>month_5</th>\n",
              "      <th>month_6</th>\n",
              "      <th>month_7</th>\n",
              "      <th>month_8</th>\n",
              "      <th>month_9</th>\n",
              "      <th>day_of_week_1</th>\n",
              "      <th>day_of_week_2</th>\n",
              "      <th>day_of_week_3</th>\n",
              "      <th>day_of_week_4</th>\n",
              "      <th>day_of_week_5</th>\n",
              "      <th>...</th>\n",
              "      <th>dest_RIC</th>\n",
              "      <th>dest_RNO</th>\n",
              "      <th>dest_ROA</th>\n",
              "      <th>dest_ROC</th>\n",
              "      <th>dest_RSW</th>\n",
              "      <th>dest_SAN</th>\n",
              "      <th>dest_SAT</th>\n",
              "      <th>dest_SAV</th>\n",
              "      <th>dest_SBA</th>\n",
              "      <th>dest_SCK</th>\n",
              "      <th>dest_SDF</th>\n",
              "      <th>dest_SEA</th>\n",
              "      <th>dest_SFB</th>\n",
              "      <th>dest_SFO</th>\n",
              "      <th>dest_SGF</th>\n",
              "      <th>dest_SHV</th>\n",
              "      <th>dest_SIT</th>\n",
              "      <th>dest_SJC</th>\n",
              "      <th>dest_SJU</th>\n",
              "      <th>dest_SLC</th>\n",
              "      <th>dest_SMF</th>\n",
              "      <th>dest_SNA</th>\n",
              "      <th>dest_SRQ</th>\n",
              "      <th>dest_STL</th>\n",
              "      <th>dest_STT</th>\n",
              "      <th>dest_STX</th>\n",
              "      <th>dest_SWF</th>\n",
              "      <th>dest_SYR</th>\n",
              "      <th>dest_TLH</th>\n",
              "      <th>dest_TPA</th>\n",
              "      <th>dest_TRI</th>\n",
              "      <th>dest_TTN</th>\n",
              "      <th>dest_TUL</th>\n",
              "      <th>dest_TUS</th>\n",
              "      <th>dest_TVC</th>\n",
              "      <th>dest_TYS</th>\n",
              "      <th>dest_USA</th>\n",
              "      <th>dest_UST</th>\n",
              "      <th>dest_VPS</th>\n",
              "      <th>dest_XNA</th>\n",
              "    </tr>\n",
              "  </thead>\n",
              "  <tbody>\n",
              "    <tr>\n",
              "      <th>0</th>\n",
              "      <td>-7</td>\n",
              "      <td>270</td>\n",
              "      <td>0</td>\n",
              "      <td>0</td>\n",
              "      <td>0</td>\n",
              "      <td>0</td>\n",
              "      <td>0</td>\n",
              "      <td>0</td>\n",
              "      <td>0</td>\n",
              "      <td>13</td>\n",
              "      <td>36.6</td>\n",
              "      <td>33.4</td>\n",
              "      <td>1022.4</td>\n",
              "      <td>984.4</td>\n",
              "      <td>5.9</td>\n",
              "      <td>3.3</td>\n",
              "      <td>0.0</td>\n",
              "      <td>1</td>\n",
              "      <td>1</td>\n",
              "      <td>0</td>\n",
              "      <td>0</td>\n",
              "      <td>0</td>\n",
              "      <td>0</td>\n",
              "      <td>1</td>\n",
              "      <td>0</td>\n",
              "      <td>0</td>\n",
              "      <td>0</td>\n",
              "      <td>0</td>\n",
              "      <td>0</td>\n",
              "      <td>0</td>\n",
              "      <td>0</td>\n",
              "      <td>0</td>\n",
              "      <td>0</td>\n",
              "      <td>0</td>\n",
              "      <td>0</td>\n",
              "      <td>0</td>\n",
              "      <td>0</td>\n",
              "      <td>0</td>\n",
              "      <td>1</td>\n",
              "      <td>0</td>\n",
              "      <td>...</td>\n",
              "      <td>0</td>\n",
              "      <td>0</td>\n",
              "      <td>0</td>\n",
              "      <td>0</td>\n",
              "      <td>0</td>\n",
              "      <td>0</td>\n",
              "      <td>0</td>\n",
              "      <td>0</td>\n",
              "      <td>0</td>\n",
              "      <td>0</td>\n",
              "      <td>0</td>\n",
              "      <td>0</td>\n",
              "      <td>0</td>\n",
              "      <td>0</td>\n",
              "      <td>0</td>\n",
              "      <td>0</td>\n",
              "      <td>0</td>\n",
              "      <td>0</td>\n",
              "      <td>0</td>\n",
              "      <td>0</td>\n",
              "      <td>0</td>\n",
              "      <td>0</td>\n",
              "      <td>0</td>\n",
              "      <td>0</td>\n",
              "      <td>0</td>\n",
              "      <td>0</td>\n",
              "      <td>0</td>\n",
              "      <td>0</td>\n",
              "      <td>0</td>\n",
              "      <td>0</td>\n",
              "      <td>0</td>\n",
              "      <td>0</td>\n",
              "      <td>0</td>\n",
              "      <td>0</td>\n",
              "      <td>0</td>\n",
              "      <td>0</td>\n",
              "      <td>0</td>\n",
              "      <td>0</td>\n",
              "      <td>0</td>\n",
              "      <td>0</td>\n",
              "    </tr>\n",
              "  </tbody>\n",
              "</table>\n",
              "<p>1 rows × 382 columns</p>\n",
              "</div>"
            ],
            "text/plain": [
              "   arr_delay  distance  presidents_day  ...  dest_UST  dest_VPS  dest_XNA\n",
              "0         -7       270               0  ...         0         0         0\n",
              "\n",
              "[1 rows x 382 columns]"
            ]
          },
          "metadata": {
            "tags": []
          },
          "execution_count": 3
        }
      ]
    },
    {
      "cell_type": "code",
      "metadata": {
        "id": "LtCbfrBwxX0W",
        "colab_type": "code",
        "colab": {}
      },
      "source": [
        "import numpy as np\n",
        "from sklearn.model_selection import train_test_split\n",
        "\n",
        "data_train, data_val = train_test_split(data, test_size = 0.2, random_state = 2)"
      ],
      "execution_count": 0,
      "outputs": []
    },
    {
      "cell_type": "code",
      "metadata": {
        "id": "99nMaeojxYbQ",
        "colab_type": "code",
        "colab": {}
      },
      "source": [
        "Y_train2=data_train.loc[:,'arr_delay']\n",
        "#Y_train2\n",
        "\n",
        "X_train2 = data_train.loc[:, ~data_train.columns.isin(['total_dep_delay', 'arr_delay'])]\n",
        "\n",
        "X_test2=data_val.loc[:, ~data_train.columns.isin(['total_dep_delay', 'arr_delay'])]\n",
        "\n",
        "Y_test2=data_val.loc[:,'arr_delay']"
      ],
      "execution_count": 0,
      "outputs": []
    },
    {
      "cell_type": "markdown",
      "metadata": {
        "id": "Du_1AIRkuffw",
        "colab_type": "text"
      },
      "source": [
        "## Lasso Regression for arrival delay"
      ]
    },
    {
      "cell_type": "markdown",
      "metadata": {
        "id": "wEl6DHsxuvlP",
        "colab_type": "text"
      },
      "source": [
        "### Training Set"
      ]
    },
    {
      "cell_type": "code",
      "metadata": {
        "id": "TEECuv_rujV5",
        "colab_type": "code",
        "outputId": "05fcc15a-9bcb-48a2-a74d-a3808d63a7ac",
        "colab": {
          "base_uri": "https://localhost:8080/",
          "height": 51
        }
      },
      "source": [
        "import numpy as np # linear algebra\n",
        "import pandas as pd # data processing, CSV file I/O (e.g. pd.read_csv)\n",
        "import seaborn as sns\n",
        "import matplotlib\n",
        "from scipy.stats import skew\n",
        "import matplotlib.pyplot as plt\n",
        "from IPython.display import display, HTML\n",
        "from scipy.stats.stats import pearsonr\n",
        "%matplotlib inline\n",
        "from subprocess import check_output  "
      ],
      "execution_count": 6,
      "outputs": [
        {
          "output_type": "stream",
          "text": [
            "/usr/local/lib/python3.6/dist-packages/statsmodels/tools/_testing.py:19: FutureWarning: pandas.util.testing is deprecated. Use the functions in the public API at pandas.testing instead.\n",
            "  import pandas.util.testing as tm\n"
          ],
          "name": "stderr"
        }
      ]
    },
    {
      "cell_type": "code",
      "metadata": {
        "id": "4kXISA4NuoSL",
        "colab_type": "code",
        "colab": {}
      },
      "source": [
        "def rmse_cv(model):\n",
        "    rmse= np.sqrt(-cross_val_score(model, X_train2, Y_train2, scoring=\"neg_mean_squared_error\", cv = 5))\n",
        "    return(rmse)"
      ],
      "execution_count": 0,
      "outputs": []
    },
    {
      "cell_type": "code",
      "metadata": {
        "id": "qjxgQF9qurJe",
        "colab_type": "code",
        "outputId": "2898c1d2-9344-4956-fabd-4a240d074953",
        "colab": {
          "base_uri": "https://localhost:8080/",
          "height": 88
        }
      },
      "source": [
        "from sklearn.model_selection import cross_val_score\n",
        "\n",
        "from sklearn.linear_model import LassoCV\n",
        "model_lasso = LassoCV(alphas = [1, 0.1, 0.001, 0.0005]).fit(X_train2, Y_train2)\n",
        "rmse_cv(model_lasso).mean()"
      ],
      "execution_count": 8,
      "outputs": [
        {
          "output_type": "stream",
          "text": [
            "/usr/local/lib/python3.6/dist-packages/sklearn/linear_model/_coordinate_descent.py:472: ConvergenceWarning: Objective did not converge. You might want to increase the number of iterations. Duality gap: 42536.55386698246, tolerance: 16608.19178703225\n",
            "  tol, rng, random, positive)\n"
          ],
          "name": "stderr"
        },
        {
          "output_type": "execute_result",
          "data": {
            "text/plain": [
              "41.46038633620812"
            ]
          },
          "metadata": {
            "tags": []
          },
          "execution_count": 8
        }
      ]
    },
    {
      "cell_type": "code",
      "metadata": {
        "id": "ir-lB8aGvbtA",
        "colab_type": "code",
        "colab": {}
      },
      "source": [
        "coef = pd.Series(model_lasso.coef_, index = X_train2.columns)"
      ],
      "execution_count": 0,
      "outputs": []
    },
    {
      "cell_type": "code",
      "metadata": {
        "id": "FItycQKKvDGf",
        "colab_type": "code",
        "outputId": "0558dde8-f976-43e4-ca50-877f9b240540",
        "colab": {
          "base_uri": "https://localhost:8080/",
          "height": 624
        }
      },
      "source": [
        "imp_coef = pd.concat([coef.sort_values().head(10),\n",
        "                     coef.sort_values().tail(10)])\n",
        "matplotlib.rcParams['figure.figsize'] = (8.0, 10.0)\n",
        "imp_coef.plot(kind = \"barh\")\n",
        "plt.title(\"Coefficients in the Lasso Model (arrival delay)\")"
      ],
      "execution_count": 10,
      "outputs": [
        {
          "output_type": "execute_result",
          "data": {
            "text/plain": [
              "Text(0.5, 1.0, 'Coefficients in the Lasso Model (arrival delay)')"
            ]
          },
          "metadata": {
            "tags": []
          },
          "execution_count": 10
        },
        {
          "output_type": "display_data",
          "data": {
            "image/png": "[encoded data removed]",
            "text/plain": [
              "<Figure size 576x720 with 1 Axes>"
            ]
          },
          "metadata": {
            "tags": [],
            "needs_background": "light"
          }
        }
      ]
    },
    {
      "cell_type": "code",
      "metadata": {
        "id": "dJsnlMAyeH_G",
        "colab_type": "code",
        "colab": {
          "base_uri": "https://localhost:8080/",
          "height": 374
        },
        "outputId": "8e55b2eb-871f-41d7-df43-b06c2555bafd"
      },
      "source": [
        "imp_coef.sort_values(ascending=False)"
      ],
      "execution_count": 15,
      "outputs": [
        {
          "output_type": "execute_result",
          "data": {
            "text/plain": [
              "origin_GRI    71.411926\n",
              "dest_ORH      18.075009\n",
              "origin_RFD    17.909048\n",
              "dest_COS      16.442329\n",
              "dest_STT      16.223112\n",
              "origin_CAE    13.337185\n",
              "origin_FAT    11.768331\n",
              "origin_LBB    11.080169\n",
              "dest_LBE      10.882741\n",
              "dest_BQN      10.692749\n",
              "origin_CRP    -5.568855\n",
              "origin_ROC    -5.575683\n",
              "dest_SWF      -6.940456\n",
              "dest_MVY      -6.941045\n",
              "origin_CAK    -6.942064\n",
              "origin_ORH    -7.052231\n",
              "origin_LEX    -7.149352\n",
              "origin_BIL    -7.375498\n",
              "origin_SYR    -9.740882\n",
              "origin_FNT   -10.218073\n",
              "dtype: float64"
            ]
          },
          "metadata": {
            "tags": []
          },
          "execution_count": 15
        }
      ]
    },
    {
      "cell_type": "markdown",
      "metadata": {
        "id": "K-KkLqMJwE_l",
        "colab_type": "text"
      },
      "source": [
        "### Test Set"
      ]
    },
    {
      "cell_type": "code",
      "metadata": {
        "id": "IwWyFftHwKlf",
        "colab_type": "code",
        "outputId": "010166f4-966e-4541-bd53-b1098bd51c24",
        "colab": {
          "base_uri": "https://localhost:8080/",
          "height": 34
        }
      },
      "source": [
        "from sklearn.model_selection import cross_val_score\n",
        "from sklearn.linear_model import LassoCV\n",
        "from sklearn.metrics import mean_squared_error \n",
        "import math  \n",
        "#model_lasso = LassoCV(alphas = [1, 0.1, 0.001, 0.0005]).fit(X_test, Y_test)\n",
        "#rmse_cv(model_lasso).mean()\n",
        "predict = model_lasso.predict(X_test2)\n",
        "MSE = np.square(np.subtract(Y_test2,predict)).mean() \n",
        "math.sqrt(MSE)"
      ],
      "execution_count": 11,
      "outputs": [
        {
          "output_type": "execute_result",
          "data": {
            "text/plain": [
              "37.910508234502984"
            ]
          },
          "metadata": {
            "tags": []
          },
          "execution_count": 11
        }
      ]
    },
    {
      "cell_type": "code",
      "metadata": {
        "id": "BaeDdZmBwOF_",
        "colab_type": "code",
        "outputId": "5a0d1f94-2a59-4034-fdf1-f552ed46f689",
        "colab": {
          "base_uri": "https://localhost:8080/",
          "height": 221
        }
      },
      "source": [
        "coef = pd.Series(model_lasso.coef_, index = X_test2.columns)\n",
        "coef"
      ],
      "execution_count": 12,
      "outputs": [
        {
          "output_type": "execute_result",
          "data": {
            "text/plain": [
              "distance           -0.002693\n",
              "presidents_day      2.584513\n",
              "easter             -0.705731\n",
              "memorial_day        1.544670\n",
              "independence_day   -4.310901\n",
              "                      ...   \n",
              "dest_TYS            1.886705\n",
              "dest_USA           -0.000000\n",
              "dest_UST           -3.608586\n",
              "dest_VPS           -2.051664\n",
              "dest_XNA            0.000000\n",
              "Length: 380, dtype: float64"
            ]
          },
          "metadata": {
            "tags": []
          },
          "execution_count": 12
        }
      ]
    }
  ]
}